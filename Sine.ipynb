{
  "nbformat": 4,
  "nbformat_minor": 0,
  "metadata": {
    "colab": {
      "provenance": [],
      "include_colab_link": true
    },
    "kernelspec": {
      "name": "python3",
      "display_name": "Python 3"
    },
    "language_info": {
      "name": "python"
    }
  },
  "cells": [
    {
      "cell_type": "markdown",
      "metadata": {
        "id": "view-in-github",
        "colab_type": "text"
      },
      "source": [
        "<a href=\"https://colab.research.google.com/github/cras-lab/Finance1/blob/main/Sine.ipynb\" target=\"_parent\"><img src=\"https://colab.research.google.com/assets/colab-badge.svg\" alt=\"Open In Colab\"/></a>"
      ]
    },
    {
      "cell_type": "markdown",
      "source": [
        "필요한 모듈 임포트"
      ],
      "metadata": {
        "id": "IgK5-kIy7doZ"
      }
    },
    {
      "cell_type": "code",
      "source": [
        "import numpy as np\n",
        "import matplotlib.pyplot as plt"
      ],
      "metadata": {
        "id": "MejKnvyy7nfx"
      },
      "execution_count": 3,
      "outputs": []
    },
    {
      "cell_type": "code",
      "source": [
        "X_train = np.arange(0,100,0.5) # 0과 100사이를 0.5 간격으로 균일하게 생성\n",
        "y_train = np.sin(X_train)\n",
        "\n",
        "X_test = np.arange(100,200,0.5)\n",
        "y_test = np.sin(X_test)\n",
        "\n",
        "n_features = 1\n",
        "\n",
        "#가로 벡터를 세로 벡터로 모양을 변경한다. (1, n) ==> (n, 1)\n",
        "train_series = y_train.reshape( (len(y_train,), n_features) ) \n",
        "test_series = y_test.reshape( (len(y_test), n_features) )"
      ],
      "metadata": {
        "id": "S61OK7q175kd"
      },
      "execution_count": 4,
      "outputs": []
    },
    {
      "cell_type": "markdown",
      "source": [
        "**그림** 도식화"
      ],
      "metadata": {
        "id": "kospsFw-8npd"
      }
    },
    {
      "cell_type": "code",
      "source": [
        "fig, ax = plt.subplots( 1,1, figsize=(15,4))\n",
        "ax.plot( X_train, y_train, lw=3, label=\"train_data\")\n",
        "ax.plot( X_test, y_test, lw=3, label=\"test data\")\n",
        "ax.legend( loc=\"lower left\")\n",
        "plt.show()"
      ],
      "metadata": {
        "id": "maEwt3aG8paM"
      },
      "execution_count": null,
      "outputs": []
    },
    {
      "cell_type": "markdown",
      "source": [
        "TimeSeriesGenerator는 시계열 데이터 처리를 쉽게하기 위한 구조로 자동변환"
      ],
      "metadata": {
        "id": "gXTYqdnZbiWG"
      }
    },
    {
      "cell_type": "code",
      "source": [
        "from keras.preprocessing.sequence import TimeseriesGenerator\n",
        "look_back = 20\n",
        "\n",
        "train_generator = TimeseriesGenerator( train_series, train_series, \n",
        "                                      length=look_back,\n",
        "                                      batch_size=10)\n",
        "\n",
        "test_generator = TimeseriesGenerator( test_series, test_series,\n",
        "                                     length=look_back,\n",
        "                                     batch_size=10)"
      ],
      "metadata": {
        "id": "TcNlC1Ekb3pi"
      },
      "execution_count": 6,
      "outputs": []
    },
    {
      "cell_type": "markdown",
      "source": [
        "KERAS에서 LSTM 신경망을 불러온다."
      ],
      "metadata": {
        "id": "qWK2V4oNdE0a"
      }
    },
    {
      "cell_type": "code",
      "source": [
        "from keras.models import Sequential\n",
        "from keras.layers import Dense, LSTM"
      ],
      "metadata": {
        "id": "IL2SxX9FdHfW"
      },
      "execution_count": 8,
      "outputs": []
    },
    {
      "cell_type": "markdown",
      "source": [
        "뉴런의 개수를 비롯해 신경망의 구조에 대한 기본 설정 값을 정한다."
      ],
      "metadata": {
        "id": "65dF2wx2BDaY"
      }
    },
    {
      "cell_type": "code",
      "source": [
        "n_neurons = 4 # 뉴런의 개수는 4개로 지정\n",
        "model = Sequential()\n",
        "model.add( LSTM( n_neurons, input_shape=(look_back, n_features)))\n",
        "model.add( Dense(1)) # 출력이 1 \n",
        "model.compile( optimizer='adam', loss='mse') #최적기는 adam, 손실함수는 MSE"
      ],
      "metadata": {
        "id": "GdY-1NKbBSWa"
      },
      "execution_count": 9,
      "outputs": []
    },
    {
      "cell_type": "markdown",
      "source": [
        "신경망을 적합화 한다."
      ],
      "metadata": {
        "id": "otbdllD5BWKK"
      }
    },
    {
      "cell_type": "code",
      "source": [
        "model.fit( train_generator, epochs=100, verbose=1 ) #적합화 하는 에폭은 100회로 설정한다."
      ],
      "metadata": {
        "id": "AiEL-gm2BX1S"
      },
      "execution_count": null,
      "outputs": []
    },
    {
      "cell_type": "markdown",
      "source": [
        "적합화 된 모델을 사용해 예측을 수행해 본다. 예측된 값은 test_prediction에 저장한다."
      ],
      "metadata": {
        "id": "T-Z_6vO1Bc6u"
      }
    },
    {
      "cell_type": "code",
      "source": [
        "test_prediction = model.predict( test_generator )"
      ],
      "metadata": {
        "colab": {
          "base_uri": "https://localhost:8080/"
        },
        "id": "cz4eS_BbBo_8",
        "outputId": "5a0ef673-9a22-4daf-b5f8-1eec8fd5e8c4"
      },
      "execution_count": 12,
      "outputs": [
        {
          "output_type": "stream",
          "name": "stdout",
          "text": [
            "18/18 [==============================] - 1s 3ms/step\n"
          ]
        }
      ]
    },
    {
      "cell_type": "markdown",
      "source": [
        "예측한 값을 테스트 데이터 위에 점으로 도식화 하여, 결과가 잘 수행되었는지 확인해 본다."
      ],
      "metadata": {
        "id": "mo8D0fhhCXeU"
      }
    },
    {
      "cell_type": "code",
      "source": [
        "x = np.arange( 110,200, 0.5)\n",
        "\n",
        "fig, ax = plt.subplots( 1,1, figsize= (15,5 ))\n",
        "ax.plot( X_train, y_train, lw=2, label='train_data')\n",
        "ax.plot( X_test, y_test, lw=3, c='y', label='test_data')\n",
        "ax.plot( x, test_prediction, lw=3, c='r', linestyle=':' , label = 'predictions')\n",
        "ax.legend( loc='lower left')\n",
        "plt.show()"
      ],
      "metadata": {
        "id": "6_9wxVfFd0WW"
      },
      "execution_count": null,
      "outputs": []
    }
  ]
}