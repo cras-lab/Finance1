{
  "nbformat": 4,
  "nbformat_minor": 0,
  "metadata": {
    "colab": {
      "provenance": [],
      "include_colab_link": true
    },
    "kernelspec": {
      "name": "python3",
      "display_name": "Python 3"
    },
    "language_info": {
      "name": "python"
    }
  },
  "cells": [
    {
      "cell_type": "markdown",
      "metadata": {
        "id": "view-in-github",
        "colab_type": "text"
      },
      "source": [
        "<a href=\"https://colab.research.google.com/github/cras-lab/Finance1/blob/main/SamSung_Predict.ipynb\" target=\"_parent\"><img src=\"https://colab.research.google.com/assets/colab-badge.svg\" alt=\"Open In Colab\"/></a>"
      ]
    },
    {
      "cell_type": "markdown",
      "source": [
        "yfinance 라이브러리 설치"
      ],
      "metadata": {
        "id": "heeOGwxCC9cY"
      }
    },
    {
      "cell_type": "code",
      "source": [
        "pip install -q yfinance"
      ],
      "metadata": {
        "id": "FAwM-y_UDIc4"
      },
      "execution_count": 1,
      "outputs": []
    },
    {
      "cell_type": "markdown",
      "source": [
        "필요한 모듈 임포트"
      ],
      "metadata": {
        "id": "yj3GiWRjDJnK"
      }
    },
    {
      "cell_type": "code",
      "source": [
        "import numpy as np\n",
        "import matplotlib.pyplot as plt\n",
        "import yfinance as yf\n",
        "from sklearn.model_selection import train_test_split"
      ],
      "metadata": {
        "id": "MSpIKIirDL2_"
      },
      "execution_count": 2,
      "outputs": []
    },
    {
      "cell_type": "markdown",
      "source": [
        "삼성전자 주가를 받아온 뒤 'Adj Close'열 이름을 adj_close로 변경"
      ],
      "metadata": {
        "id": "Slk2GH_iDNVv"
      }
    },
    {
      "cell_type": "code",
      "source": [
        "df = yf.download(\"005935.KS\", start=\"2020-01-01\", end=\"2022-2-15\", progress=False)\n",
        "\n",
        "df = df.loc[:,['Adj Close'] ]\n",
        "df.rename( columns={'Adj Close':'adj_close'}, inplace=True)"
      ],
      "metadata": {
        "id": "ztsxL4EzDVO3"
      },
      "execution_count": 3,
      "outputs": []
    },
    {
      "cell_type": "markdown",
      "source": [
        "훈련과 테스트 분할 "
      ],
      "metadata": {
        "id": "ubdlUvrQDZiX"
      }
    },
    {
      "cell_type": "code",
      "source": [
        "y_train, y_test = train_test_split( df.adj_close, shuffle=False  )\n",
        "\n",
        "X_train = np.arange(0, len(y_train) )\n",
        "X_test = np.arange( len(y_train), len(df.adj_close))\n",
        "n_features = 1\n",
        "\n",
        "y_train = np.array( y_train )\n",
        "y_test = np.array( y_test )\n",
        "\n",
        "train_series = y_train.reshape( (len(y_train), n_features))\n",
        "test_series = y_test.reshape( (len(y_test), n_features))\n"
      ],
      "metadata": {
        "id": "83fhcz5iDf8n"
      },
      "execution_count": 4,
      "outputs": []
    },
    {
      "cell_type": "markdown",
      "source": [
        "그래프 표시"
      ],
      "metadata": {
        "id": "cduNP7XzDiEg"
      }
    },
    {
      "cell_type": "code",
      "source": [
        "fig, ax = plt.subplots( 1,1, figsize=(15,4))\n",
        "ax.plot( X_train, y_train, lw=3, label=\"train data\")\n",
        "ax.plot(X_test, y_test, lw=3, label=\"test data\")\n",
        "ax.legend( loc=\"lower left\")\n",
        "plt.show()\n"
      ],
      "metadata": {
        "id": "Oy5Pg2e3Dlif"
      },
      "execution_count": null,
      "outputs": []
    },
    {
      "cell_type": "markdown",
      "source": [
        "주가를 0과 1사이의 값으로 표준화(Normalization)한 다음 그래프 표시"
      ],
      "metadata": {
        "id": "A7ZoLiQ7EFlo"
      }
    },
    {
      "cell_type": "code",
      "source": [
        "max_price = np.max( train_series )\n",
        "min_price = np.min( train_series )\n",
        "\n",
        "\n",
        "print(max_price, min_price)\n",
        "\n",
        "train_series = (train_series - min_price) / (max_price-min_price)  \n",
        "test_series = (test_series - min_price) / (max_price-min_price) \n",
        "\n",
        "fig, ax = plt.subplots( 1,1, figsize=(15,4))\n",
        "ax.plot( X_train, train_series, lw=3, label=\"train data\")\n",
        "ax.plot(X_test, test_series, lw=3, label=\"test data\")\n",
        "ax.legend( loc=\"lower left\")\n",
        "plt.show()\n"
      ],
      "metadata": {
        "id": "GH5y53hZELTR"
      },
      "execution_count": null,
      "outputs": []
    },
    {
      "cell_type": "markdown",
      "source": [
        "TimeseriesGenerator 형태로 변환"
      ],
      "metadata": {
        "id": "bOVl3R1PEV-I"
      }
    },
    {
      "cell_type": "code",
      "source": [
        "from keras.preprocessing.sequence import TimeseriesGenerator\n",
        "look_back = 20\n",
        "\n",
        "train_generator = TimeseriesGenerator( train_series, train_series,\n",
        "                                      length=look_back,\n",
        "                                      batch_size = 10)\n",
        "\n",
        "\n",
        "test_generator = TimeseriesGenerator(test_series, test_series,\n",
        "                                     length= look_back,\n",
        "                                     batch_size=10)"
      ],
      "metadata": {
        "id": "l3CL-D3cEZYn"
      },
      "execution_count": 7,
      "outputs": []
    },
    {
      "cell_type": "markdown",
      "source": [
        "LSTM 네트워크 구성"
      ],
      "metadata": {
        "id": "NmRmy_p7Ebj3"
      }
    },
    {
      "cell_type": "code",
      "source": [
        "from keras.models import Sequential\n",
        "from keras.layers import Dense, LSTM\n",
        "\n",
        "n_neurons = 32\n",
        "model = Sequential()\n",
        "model.add( LSTM( n_neurons, input_shape=(look_back, n_features)))\n",
        "model.add( Dense(1))\n",
        "model.compile( optimizer='adam', loss='mse')"
      ],
      "metadata": {
        "id": "poMDNL5KEfCn"
      },
      "execution_count": 9,
      "outputs": []
    },
    {
      "cell_type": "markdown",
      "source": [
        "모델을 적합화 한 다음, 예측 생성"
      ],
      "metadata": {
        "id": "vEbDOljrEhxI"
      }
    },
    {
      "cell_type": "code",
      "source": [
        "model.fit( train_generator, epochs=50, verbose=0)\n",
        "\n",
        "test_prediction = model.predict( test_generator )"
      ],
      "metadata": {
        "id": "ojL6QMI3EnY4"
      },
      "execution_count": null,
      "outputs": []
    },
    {
      "cell_type": "markdown",
      "source": [
        "예측을 그래프로 표시"
      ],
      "metadata": {
        "id": "xbpNAu3VEqoY"
      }
    },
    {
      "cell_type": "code",
      "source": [
        "x= np.arange( len(df.adj_close) - len(test_prediction ), len(df.adj_close) )\n",
        "fig, ax= plt.subplots( 1,1, figsize=(15,5))\n",
        "ax.plot( X_test, y_test, lw=3, c='y', label='test_data')\n",
        "ax.plot( x, test_prediction*(max_price-min_price)+min_price,\\\n",
        "        lw=3, c='r', linestyle=':', label='predictions')\n",
        "ax.legend( loc='lower left')\n",
        "plt.show()\n"
      ],
      "metadata": {
        "id": "LfZ6wQO4EtkI"
      },
      "execution_count": null,
      "outputs": []
    },
    {
      "cell_type": "markdown",
      "source": [
        "앞의 테스트는 look-back을 보면서 계속 보정해 나가는 문제가 있다. 향후 일정 기간의 주가 예측을 보려면, 테스트 값을 예측한 값으로 대체해 가면서 그 다음 예측을 이어나가야 한다."
      ],
      "metadata": {
        "id": "HS7IglwVGIZM"
      }
    },
    {
      "cell_type": "code",
      "execution_count": null,
      "metadata": {
        "id": "HKPIC5IIeklm"
      },
      "outputs": [],
      "source": [
        "# Extrapolation \n",
        "days_to_tell = 30 # 향후 30일간의 주가 흐름을 예측\n",
        "extrapolation = np.zeros(days_to_tell)\n",
        "seed_batch    = ((y_test[:look_back] - min_price)/(max_price-min_price)).reshape((1,look_back, n_features))\n",
        "current_batch = seed_batch\n",
        "\n",
        "# extrapolate the next days_to_tell values\n",
        "for i in range(days_to_tell):\n",
        "    predicted_value = model.predict(current_batch)[0]\n",
        "    extrapolation[i] = predicted_value\n",
        "    current_batch = np.append(current_batch[:,1:,:],[[predicted_value]],axis=1)"
      ]
    },
    {
      "cell_type": "code",
      "source": [
        "x= np.arange( len(df.adj_close) - len(test_prediction ), len(df.adj_close) - len(test_prediction ) + days_to_tell )\n",
        "fig, ax = plt.subplots(1, 1, figsize=(15, 5))\n",
        "ax.plot( X_train, y_train, lw=2, label='train_data')\n",
        "ax.plot(X_test,y_test, lw=3, c='y', label='test data')\n",
        "ax.plot( x, extrapolation*(max_price-min_price)+min_price,\\\n",
        "        lw=3, c='r', linestyle=':', label='predictions')\n",
        "\n",
        "ax.legend(loc=\"lower left\")\n",
        "plt.show();"
      ],
      "metadata": {
        "id": "ggBjj-qGG-n1"
      },
      "execution_count": null,
      "outputs": []
    }
  ]
}