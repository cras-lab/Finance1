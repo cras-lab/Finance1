{
  "nbformat": 4,
  "nbformat_minor": 0,
  "metadata": {
    "colab": {
      "provenance": [],
      "toc_visible": true,
      "include_colab_link": true
    },
    "kernelspec": {
      "name": "python3",
      "display_name": "Python 3"
    }
  },
  "cells": [
    {
      "cell_type": "markdown",
      "metadata": {
        "id": "view-in-github",
        "colab_type": "text"
      },
      "source": [
        "<a href=\"https://colab.research.google.com/github/cras-lab/Finance1/blob/main/%EC%95%BC%ED%9B%84%EC%97%90%EC%84%9C_%EC%82%BC%EC%84%B1%EC%A0%84%EC%9E%90_%EC%A3%BC%EA%B0%80_%EC%9D%BD%EC%96%B4%EC%98%A4%EA%B8%B0.ipynb\" target=\"_parent\"><img src=\"https://colab.research.google.com/assets/colab-badge.svg\" alt=\"Open In Colab\"/></a>"
      ]
    },
    {
      "cell_type": "markdown",
      "source": [
        "야후의 yfinance 모듈을 설치"
      ],
      "metadata": {
        "id": "9wFjjN-H-waf"
      }
    },
    {
      "cell_type": "code",
      "source": [
        "pip install -q yfinance"
      ],
      "metadata": {
        "id": "PKL4pqJk-dbR"
      },
      "execution_count": 1,
      "outputs": []
    },
    {
      "cell_type": "markdown",
      "source": [
        "필요한 모듈 임포트"
      ],
      "metadata": {
        "id": "Tmq3csUU-7ao"
      }
    },
    {
      "cell_type": "code",
      "source": [
        "import pandas as pd\n",
        "import yfinance as yf\n",
        "import matplotlib.pyplot as plt"
      ],
      "metadata": {
        "id": "QnAu3bez_LM4"
      },
      "execution_count": 2,
      "outputs": []
    },
    {
      "cell_type": "markdown",
      "source": [
        "야후에서 Open API를 이용해 삼성전자 주가를 읽어오고, Pandas Dataframe 데이터구조에\n",
        "저장한다."
      ],
      "metadata": {
        "id": "lxcOpQNT_By_"
      }
    },
    {
      "cell_type": "code",
      "source": [
        "Ticker_SS = '005935.KS'\n",
        "df = yf.download( Ticker_SS, start='2010-01-01', end='2022-06-30', progress=False)"
      ],
      "metadata": {
        "id": "Ln9EFLxz_RqS"
      },
      "execution_count": 3,
      "outputs": []
    },
    {
      "cell_type": "markdown",
      "source": [
        "데이터의 처음 10줄을 살펴보자."
      ],
      "metadata": {
        "id": "Camq_XeZ_iAy"
      }
    },
    {
      "cell_type": "code",
      "source": [
        "df.head(10)"
      ],
      "metadata": {
        "id": "QJYnE9Av_TY2"
      },
      "execution_count": null,
      "outputs": []
    },
    {
      "cell_type": "markdown",
      "source": [
        "DataFrame은 데이터의 기본 요약 통계량도 보여준다."
      ],
      "metadata": {
        "id": "TLu8Vga2_56Y"
      }
    },
    {
      "cell_type": "code",
      "source": [
        "df.describe()"
      ],
      "metadata": {
        "id": "_2A9p8HoACJ6"
      },
      "execution_count": null,
      "outputs": []
    },
    {
      "cell_type": "markdown",
      "source": [
        "DaraFrame 자체에도 전체 데이터를 도식화 하는 plot()이라는 함수가 내장돼 있다. 아래에는 그 함수를 호출하여, 그려본다."
      ],
      "metadata": {
        "id": "6S1E4LAkAGD5"
      }
    },
    {
      "cell_type": "code",
      "source": [
        "df.plot()"
      ],
      "metadata": {
        "id": "T7S3Y2LyAReB"
      },
      "execution_count": null,
      "outputs": []
    },
    {
      "cell_type": "markdown",
      "source": [
        "이제 matplotlib라는 도식화 라이브러리를 이용하여, 전체 중 조정종가 부분만 도식화 해 보자."
      ],
      "metadata": {
        "id": "AUmxgXDWAU4n"
      }
    },
    {
      "cell_type": "code",
      "metadata": {
        "id": "fBTDGBcJmtef"
      },
      "source": [
        "x = df.index\n",
        "plt.plot(x, df[ 'Adj Close'])\n",
        "plt.show()"
      ],
      "execution_count": null,
      "outputs": []
    }
  ]
}