{
  "nbformat": 4,
  "nbformat_minor": 0,
  "metadata": {
    "colab": {
      "provenance": [],
      "authorship_tag": "ABX9TyNSiGtzIIgKD71nN7iNLvCH",
      "include_colab_link": true
    },
    "kernelspec": {
      "name": "python3",
      "display_name": "Python 3"
    },
    "language_info": {
      "name": "python"
    }
  },
  "cells": [
    {
      "cell_type": "markdown",
      "metadata": {
        "id": "view-in-github",
        "colab_type": "text"
      },
      "source": [
        "<a href=\"https://colab.research.google.com/github/cras-lab/Finance1/blob/main/Sharpe_Rate.ipynb\" target=\"_parent\"><img src=\"https://colab.research.google.com/assets/colab-badge.svg\" alt=\"Open In Colab\"/></a>"
      ]
    },
    {
      "cell_type": "markdown",
      "source": [
        "샤프지수 = (포트폴리오 수익률 - 무위험금리)/포트폴리오 변동성<BR>\n",
        "우선 필요한 모듈을 임포트 한다."
      ],
      "metadata": {
        "id": "1wv1yazaA3LC"
      }
    },
    {
      "cell_type": "code",
      "source": [
        "import yfinance as yf\n",
        "import pandas as pd\n",
        "import numpy as np"
      ],
      "metadata": {
        "id": "hXA8PxmlBEe2"
      },
      "execution_count": 31,
      "outputs": []
    },
    {
      "cell_type": "markdown",
      "source": [
        "주가를 읽어올 업체들의 symbol과 회사명을 리스트로 작성한다."
      ],
      "metadata": {
        "id": "CwuCLoTLBGcy"
      }
    },
    {
      "cell_type": "code",
      "source": [
        "stocks = ['005930.KS', '066570.KS', '003490.KS', '010950.KS', '051910.KS', '017670.KS', '000100.KS', '000087.KS', '000070.KS', '000150.KS', '000270.KS' , '057050.KS' ] #symbol\n",
        "names = ['Samsung', 'LGE', 'KAL', 'G-Cross', 'S-Oil', 'SK-Tel', 'Yoohan', 'HITE', 'Meritz', 'Doosan' , \"KIA\", \"HD-HS\"] # Name"
      ],
      "metadata": {
        "id": "pueOsGmHB0uK"
      },
      "execution_count": 32,
      "outputs": []
    },
    {
      "cell_type": "markdown",
      "source": [
        "주가를 불러올 기간을 설정한다."
      ],
      "metadata": {
        "id": "_ixz9IoUB6aU"
      }
    },
    {
      "cell_type": "code",
      "source": [
        "start_date = \"2019-1-31\"\n",
        "end_date = \"2022-12-31\""
      ],
      "metadata": {
        "id": "aS3CsiPhB9Bw"
      },
      "execution_count": 33,
      "outputs": []
    },
    {
      "cell_type": "markdown",
      "source": [
        "무위험 금리를 설정한다. 연간 2%로 설정한다."
      ],
      "metadata": {
        "id": "IVrx_PebB-yA"
      }
    },
    {
      "cell_type": "code",
      "source": [
        "RiskFree = 0.02"
      ],
      "metadata": {
        "id": "zYgYMOMkCEVc"
      },
      "execution_count": 34,
      "outputs": []
    },
    {
      "cell_type": "markdown",
      "source": [
        "주가, 수익률, 표준편차, 샤프지수를 담을 데이터프레임을 생성한다."
      ],
      "metadata": {
        "id": "0mN2CdjQCCEq"
      }
    },
    {
      "cell_type": "code",
      "source": [
        "df = pd.DataFrame()  # 주가\n",
        "aRet = pd.DataFrame()  # 수익률\n",
        "aStd = pd.DataFrame() # 표준편차\n",
        "Sharpe = pd.DataFrame() # 샤프지수"
      ],
      "metadata": {
        "id": "NV_ELnScCK-L"
      },
      "execution_count": 35,
      "outputs": []
    },
    {
      "cell_type": "markdown",
      "source": [
        "루프를 돌며, 필요한 수치를 계산한다."
      ],
      "metadata": {
        "id": "-JQzCjCsCRTm"
      }
    },
    {
      "cell_type": "code",
      "source": [
        "for index, stock in enumerate(stocks):\n",
        "  df[ names[index] ] = yf.download( stock, start=start_date, end=end_date , progress= False )[\"Adj Close\"]\n",
        "  aRet[names[index]] = df[names[index]].resample('Y').apply(lambda x: (x[-1] - x[0]) / x[0])\n",
        "  ntd = df[names[index]].resample('Y').count()    # 연간 거래일 수 파악\n",
        "  aStd[names[index]] = df[names[index]].resample('Y').apply(lambda x: x.pct_change().std())*np.sqrt(ntd) # 변동성을 연환산\n",
        "  Sharpe[names[index]] = ( aRet[names[index]] - RiskFree ) / aStd[names[index]]"
      ],
      "metadata": {
        "id": "f7Ve_IprCUM6"
      },
      "execution_count": 36,
      "outputs": []
    },
    {
      "cell_type": "markdown",
      "source": [
        "샤프지수를 출력한다."
      ],
      "metadata": {
        "id": "2RF1A-ZSCXdb"
      }
    },
    {
      "cell_type": "code",
      "source": [
        "print( Sharpe  )"
      ],
      "metadata": {
        "id": "Mn0yhARbCZlv"
      },
      "execution_count": null,
      "outputs": []
    },
    {
      "cell_type": "markdown",
      "source": [
        "샤프지수를 도식화 해 본다."
      ],
      "metadata": {
        "id": "9bWheAFjCb0i"
      }
    },
    {
      "cell_type": "code",
      "execution_count": null,
      "metadata": {
        "id": "OnE8FL4j6JAd"
      },
      "outputs": [],
      "source": [
        "Sharpe.plot()"
      ]
    }
  ]
}