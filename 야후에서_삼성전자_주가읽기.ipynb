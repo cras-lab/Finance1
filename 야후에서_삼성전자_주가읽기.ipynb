{
  "nbformat": 4,
  "nbformat_minor": 0,
  "metadata": {
    "colab": {
      "provenance": [],
      "include_colab_link": true
    },
    "kernelspec": {
      "name": "python3",
      "display_name": "Python 3"
    },
    "language_info": {
      "name": "python"
    }
  },
  "cells": [
    {
      "cell_type": "markdown",
      "metadata": {
        "id": "view-in-github",
        "colab_type": "text"
      },
      "source": [
        "<a href=\"https://colab.research.google.com/github/cras-lab/Finance1/blob/main/%EC%95%BC%ED%9B%84%EC%97%90%EC%84%9C_%EC%82%BC%EC%84%B1%EC%A0%84%EC%9E%90_%EC%A3%BC%EA%B0%80%EC%9D%BD%EA%B8%B0.ipynb\" target=\"_parent\"><img src=\"https://colab.research.google.com/assets/colab-badge.svg\" alt=\"Open In Colab\"/></a>"
      ]
    },
    {
      "cell_type": "markdown",
      "source": [
        "Pandas와 yfinance를 임포트 한다."
      ],
      "metadata": {
        "id": "Mu5C1uCtDwXZ"
      }
    },
    {
      "cell_type": "code",
      "execution_count": 1,
      "metadata": {
        "id": "Mg9Lyn_qDr3I"
      },
      "outputs": [],
      "source": [
        "import pandas as pd\n",
        "import yfinance as yf"
      ]
    },
    {
      "cell_type": "markdown",
      "source": [
        "삼성전자 주가를 Pandas의 DataFrame 구조에 읽어 들인다."
      ],
      "metadata": {
        "id": "AVYPSD-tD-Q-"
      }
    },
    {
      "cell_type": "code",
      "source": [
        "symbol = '005930.KS' # 삼성전자\n",
        "df = yf.download( symbol, start='2020-01-01', end='2020-12-31',  progress=False)"
      ],
      "metadata": {
        "id": "6o4I0OVKED35"
      },
      "execution_count": 2,
      "outputs": []
    },
    {
      "cell_type": "markdown",
      "source": [
        "우선 어떤 열로 구성되어 있는지 살펴본다."
      ],
      "metadata": {
        "id": "c-cIJyacElgs"
      }
    },
    {
      "cell_type": "code",
      "source": [
        "print( df.columns )"
      ],
      "metadata": {
        "id": "D4ik-yUbErQv"
      },
      "execution_count": null,
      "outputs": []
    },
    {
      "cell_type": "markdown",
      "source": [
        "각 열이 어떤 이름과 어떤 데이터 형식으로 되어 있는지 알아본다."
      ],
      "metadata": {
        "id": "zd9otzPLE7hc"
      }
    },
    {
      "cell_type": "code",
      "source": [
        "print( df.dtypes )"
      ],
      "metadata": {
        "id": "UNMrQCjoFC9n"
      },
      "execution_count": null,
      "outputs": []
    },
    {
      "cell_type": "markdown",
      "source": [
        "요약 통계량을 알아볼 수도 있다."
      ],
      "metadata": {
        "id": "9I0vI87rF9RB"
      }
    },
    {
      "cell_type": "code",
      "source": [
        "df.describe()"
      ],
      "metadata": {
        "id": "lZhicojNGFMV"
      },
      "execution_count": null,
      "outputs": []
    },
    {
      "cell_type": "markdown",
      "source": [
        "맨 앞에 있는 5개의 데이터를 살펴본다."
      ],
      "metadata": {
        "id": "Dh5_CBL1GJx5"
      }
    },
    {
      "cell_type": "code",
      "source": [
        "df.head()"
      ],
      "metadata": {
        "id": "jdOEhv-HGMfl"
      },
      "execution_count": null,
      "outputs": []
    },
    {
      "cell_type": "markdown",
      "source": [
        "맨 앞의 10개 데이터를 살펴보려면, 인수로 전달하면 된다."
      ],
      "metadata": {
        "id": "gYQ6d9zGGS6c"
      }
    },
    {
      "cell_type": "code",
      "source": [
        "df.head(10)"
      ],
      "metadata": {
        "id": "119pH6oRGXRl"
      },
      "execution_count": null,
      "outputs": []
    },
    {
      "cell_type": "markdown",
      "source": [
        "맨 뒤의 5개를 살펴보자."
      ],
      "metadata": {
        "id": "x2uSjl6iGZ3r"
      }
    },
    {
      "cell_type": "code",
      "source": [
        "df.tail()"
      ],
      "metadata": {
        "id": "5ziUMEbyGbcc"
      },
      "execution_count": null,
      "outputs": []
    },
    {
      "cell_type": "markdown",
      "source": [
        "맨 뒤의 15개를 보려면 인수로 전달하면 된다."
      ],
      "metadata": {
        "id": "kIkh4eh7GemG"
      }
    },
    {
      "cell_type": "code",
      "source": [
        "df.tail(15)"
      ],
      "metadata": {
        "id": "1SSPEwBjGhda"
      },
      "execution_count": null,
      "outputs": []
    },
    {
      "cell_type": "markdown",
      "source": [
        "DataFrame에 있는 특정열을 선택하면, Series 라는 새로운 형태의 데이터 구조로 그 열의 데이터가 반환된다. 6개 열 중 Adj Close 열을 추출해보자."
      ],
      "metadata": {
        "id": "e0vsPs0xGlRn"
      }
    },
    {
      "cell_type": "code",
      "source": [
        "ac_price = df['Adj Close']\n",
        "o_price = df.Open"
      ],
      "metadata": {
        "id": "rh9CCp33G2P-"
      },
      "execution_count": 10,
      "outputs": []
    },
    {
      "cell_type": "markdown",
      "source": [
        "추출이 잘 되었는지, 각각의 Series를 출력해 보자.\n",
        "\n",
        "\n"
      ],
      "metadata": {
        "id": "o2ug9ZR_HMCq"
      }
    },
    {
      "cell_type": "code",
      "source": [
        "print( ac_price )\n",
        "print( o_price)"
      ],
      "metadata": {
        "id": "hYFoQSWuHPG-"
      },
      "execution_count": null,
      "outputs": []
    },
    {
      "cell_type": "markdown",
      "source": [
        "기초 통계량도 가능하다."
      ],
      "metadata": {
        "id": "PAqKMe7XfBwz"
      }
    },
    {
      "cell_type": "code",
      "source": [
        "print(\"Minimum = \", ac_price.min())\n",
        "print(\"Maximum = \", ac_price.max())\n",
        "print(\"Mean = \", ac_price.mean())\n",
        "print(\"Median = \", ac_price.median())\n",
        "print(\"STD = \" , ac_price.std())"
      ],
      "metadata": {
        "id": "GbYrm9hIfE-a"
      },
      "execution_count": null,
      "outputs": []
    },
    {
      "cell_type": "markdown",
      "source": [
        "요약 통계량도 볼 수 있다."
      ],
      "metadata": {
        "id": "It_65Z0Vfm_z"
      }
    },
    {
      "cell_type": "code",
      "source": [
        "o_price.describe()"
      ],
      "metadata": {
        "id": "HpzZNdx1fpiF"
      },
      "execution_count": null,
      "outputs": []
    },
    {
      "cell_type": "markdown",
      "source": [
        "도식화 함수도 있다."
      ],
      "metadata": {
        "id": "hXIwjKLHfxkm"
      }
    },
    {
      "cell_type": "code",
      "source": [
        "df.plot()"
      ],
      "metadata": {
        "id": "YuDCm2eqgqsI"
      },
      "execution_count": null,
      "outputs": []
    },
    {
      "cell_type": "markdown",
      "source": [
        "Series에도 도시화 함수가 그대로 있다."
      ],
      "metadata": {
        "id": "xjJgjxuGgtIU"
      }
    },
    {
      "cell_type": "code",
      "source": [
        "o_price.plot()\n",
        "ac_price.plot()"
      ],
      "metadata": {
        "id": "evivd4s4gvPD"
      },
      "execution_count": null,
      "outputs": []
    },
    {
      "cell_type": "markdown",
      "source": [
        "전문 그래픽 라이브러리의 도움을 받아 삼성전자의 주가와 거래량을 나란히 그려보자."
      ],
      "metadata": {
        "id": "MwJ4sWH0_KuH"
      }
    },
    {
      "cell_type": "code",
      "source": [
        "import matplotlib.pyplot as plt\n",
        "\n",
        "top = plt.subplot2grid((4, 4), (0, 0), rowspan=3, colspan=4)\n",
        "top.plot(df.index, df['Adj Close'], label='Close')\n",
        "plt.title('Samsung Cloising Price')\n",
        "plt.legend(loc=2)\n",
        "\n",
        "bottom = plt.subplot2grid((4, 4), (3, 0), rowspan=1, colspan=4)\n",
        "bottom.bar(df.index, df.Volume )\n",
        "plt.title('Samsung Daily Trading Volume')\n",
        "plt.gcf().set_size_inches(7, 6)\n",
        "plt.subplots_adjust(hspace=0.75)"
      ],
      "metadata": {
        "id": "gP8-5h0b_OBv"
      },
      "execution_count": null,
      "outputs": []
    },
    {
      "cell_type": "markdown",
      "source": [
        "전문그래픽 라이브러리인 matplotlib에 있는 mplfinance는 금융데이터의 시각화를 위한 다양한 기능을 제공한다. 여기서는 mplfinance를 이용하여 촛대차트를 그려본다."
      ],
      "metadata": {
        "id": "GbsVUprLG3m0"
      }
    },
    {
      "cell_type": "code",
      "source": [
        "pip install mplfinance -q"
      ],
      "metadata": {
        "id": "dFNNveyl_REy"
      },
      "execution_count": 38,
      "outputs": []
    },
    {
      "cell_type": "code",
      "source": [
        "from mplfinance.original_flavor import candlestick_ohlc\n",
        "import matplotlib.dates as mdates\n",
        "\n",
        "df2 = yf.download( symbol, start='2021-01-01', end='2021-01-31',  progress=False)\n",
        "\n",
        "df2['Date'] = df2.index.map(mdates.date2num)\n",
        "df_ohlc = df2[['Date','Open', 'High', 'Low', 'Close']]\n",
        "\n",
        "figure, ax = plt.subplots(figsize = (8,4))\n",
        "formatter = mdates.DateFormatter('%Y-%m-%d')\n",
        "ax.xaxis.set_major_formatter(formatter)\n",
        "candlestick_ohlc(ax, df_ohlc.values, width=0.8, colorup='green', colordown='red')\n",
        "plt.show()\n",
        ""
      ],
      "metadata": {
        "id": "0gaKbgVUClwn"
      },
      "execution_count": null,
      "outputs": []
    }
  ]
}