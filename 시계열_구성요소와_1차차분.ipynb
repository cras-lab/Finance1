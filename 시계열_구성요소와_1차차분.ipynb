{
  "nbformat": 4,
  "nbformat_minor": 0,
  "metadata": {
    "colab": {
      "provenance": [],
      "include_colab_link": true
    },
    "kernelspec": {
      "name": "python3",
      "display_name": "Python 3"
    },
    "language_info": {
      "name": "python"
    }
  },
  "cells": [
    {
      "cell_type": "markdown",
      "metadata": {
        "id": "view-in-github",
        "colab_type": "text"
      },
      "source": [
        "<a href=\"https://colab.research.google.com/github/cras-lab/Finance1/blob/main/%EC%8B%9C%EA%B3%84%EC%97%B4_%EA%B5%AC%EC%84%B1%EC%9A%94%EC%86%8C%EC%99%80_1%EC%B0%A8%EC%B0%A8%EB%B6%84.ipynb\" target=\"_parent\"><img src=\"https://colab.research.google.com/assets/colab-badge.svg\" alt=\"Open In Colab\"/></a>"
      ]
    },
    {
      "cell_type": "markdown",
      "source": [
        "아래코드는 선택적이며, Colab에서 한글을 출력하고 싶을때만 사용한다.\n",
        "한글폰트를 설치한다. <BR>\n",
        "설치가 끝나면 반드시 <런타임>메뉴에서   \"런타임 다시 시작\"을 수행해야 변경이 반영된다."
      ],
      "metadata": {
        "id": "GhYch3iW4Om6"
      }
    },
    {
      "cell_type": "code",
      "source": [
        "!sudo apt-get install -y fonts-nanum\n",
        "!sudo fc-cache -fv\n",
        "!rm ~/.cache/matplotlib -rf"
      ],
      "metadata": {
        "id": "C09_gyGB2wdQ"
      },
      "execution_count": null,
      "outputs": []
    },
    {
      "cell_type": "markdown",
      "source": [
        "시계열 분석을 위해 yfinance를 설치한다."
      ],
      "metadata": {
        "id": "WlOvcv1wFC0_"
      }
    },
    {
      "cell_type": "code",
      "execution_count": 2,
      "metadata": {
        "id": "VXrh0ZHTEISJ"
      },
      "outputs": [],
      "source": [
        "pip install -q yfinance"
      ]
    },
    {
      "cell_type": "markdown",
      "source": [
        "필요한 모듈을 import 한다."
      ],
      "metadata": {
        "id": "oqZKmYLKFKeI"
      }
    },
    {
      "cell_type": "code",
      "source": [
        "import yfinance as yf\n",
        "import numpy as np\n",
        "import pandas as pd\n",
        "import datetime\n",
        "import statsmodels.api as sm\n",
        "import matplotlib.pyplot as plt\n",
        "from statsmodels.tsa.stattools import adfuller\n",
        "from statsmodels.tsa.seasonal import seasonal_decompose"
      ],
      "metadata": {
        "id": "YdVR3pMAFOjr"
      },
      "execution_count": 3,
      "outputs": []
    },
    {
      "cell_type": "markdown",
      "source": [
        "야후 finance의 Open API를 사용하여, 삼성전자 주가를 불러 온다."
      ],
      "metadata": {
        "id": "zQTB4vgzFRoP"
      }
    },
    {
      "cell_type": "code",
      "source": [
        "plt.rc('font', family='NanumBarunGothic')\n",
        "Tickers = [ '^KS11', '^GSPC']\n",
        "start = datetime.datetime(2010, 1, 1)\n",
        "end = datetime.datetime(2020, 1, 1)\n",
        "df = yf.download(Tickers, start=start, end=end, interval='1mo').Close\n",
        "Prices = [ df['^GSPC'], df[ '^KS11']]"
      ],
      "metadata": {
        "id": "FHA684uoFtjX",
        "outputId": "7b5895a4-7d27-4f00-c738-01ce6c66b4d1",
        "colab": {
          "base_uri": "https://localhost:8080/"
        }
      },
      "execution_count": 4,
      "outputs": [
        {
          "output_type": "stream",
          "name": "stdout",
          "text": [
            "[*********************100%***********************]  2 of 2 completed\n"
          ]
        }
      ]
    },
    {
      "cell_type": "markdown",
      "source": [
        "시계열의 각 구성요소를 시각화 해 본다."
      ],
      "metadata": {
        "id": "VxSNbvEFGAVZ"
      }
    },
    {
      "cell_type": "code",
      "source": [
        "plt.figure(figsize=(12, 24))\n",
        "seasonal_decompose(Prices[0], period=12).plot()\n",
        "seasonal_decompose(Prices[1], period=12).plot()\n",
        "plt.show()"
      ],
      "metadata": {
        "id": "UeVSW_mKGKoI"
      },
      "execution_count": null,
      "outputs": []
    },
    {
      "cell_type": "markdown",
      "source": [
        "추세: 시작점과 끝점이 다르거나, 시계열에서 상승/하향 기울기를 가질때 나타난다.\n",
        "S&P와 KOSPI가 각각 어떤 추세를 가지는지 살펴보자."
      ],
      "metadata": {
        "id": "b8nGBsXNJzr4"
      }
    },
    {
      "cell_type": "code",
      "source": [
        "plt.figure(figsize=(10, 6))\n",
        "plt.plot(Prices[0])\n",
        "plt.plot(Prices[1])\n",
        "plt.title('S&P .vs. KOSPI 가격비교')\n",
        "plt.ylabel('지수')\n",
        "plt.xlabel('날짜')\n",
        "plt.show()"
      ],
      "metadata": {
        "id": "vQuWaArPJy7D"
      },
      "execution_count": null,
      "outputs": []
    },
    {
      "cell_type": "markdown",
      "source": [],
      "metadata": {
        "id": "6Uid_aaP4Lcq"
      }
    },
    {
      "cell_type": "markdown",
      "source": [
        "자기상관과 부분자기상관 관계를 살펴보면, 현재 값과 과거 값 사이의 종속성을 볼 수 있다.추세가 있다고 반드시 자기상관이 생기는 것은 아니지만, 자기 상관이 있을 개연성이 높다."
      ],
      "metadata": {
        "id": "2zKbzc7DOb7m"
      }
    },
    {
      "cell_type": "code",
      "source": [
        "sm.graphics.tsa.plot_acf(Prices[0], lags=30)\n",
        "sm.graphics.tsa.plot_acf(Prices[1], lags=30)\n",
        "plt.xlabel('Number of Lags')\n",
        "plt.show()"
      ],
      "metadata": {
        "id": "wWdXoN6AOrOZ"
      },
      "execution_count": null,
      "outputs": []
    },
    {
      "cell_type": "markdown",
      "source": [
        "부분 자기상관 관계를 살펴보자.\n",
        "부분 상관계수는 다른 변수들의 영향을 제거하고 두 변수가 다른 변수들로부터 독립적으로 얼마나 관련성을 가지는지의 지표\n",
        "\n",
        "EX) A, B가 양의 상관관계를 가지고 , C가 A,B 모두와 양의 상관관계를 가진다고 가정할 때, C의 영향을 제거하지 않으면, A와 B의 상관관계는 실제보다 높게 나타날 수 있다. A와 B 사이의 부분상관관계수를 계산하면, C의 영향을 제거하고 A와 B 사이의 상관관계를 보다 정확하게 파악할 수 있다.\n",
        "일반적으로는 Yule-Walker 방정식이나 Durbin-Levinson 알고리즘 등을 사용한다. "
      ],
      "metadata": {
        "id": "K880ESkyPOW_"
      }
    },
    {
      "cell_type": "code",
      "source": [
        "sm.graphics.tsa.plot_pacf(Prices[0], lags=30)\n",
        "sm.graphics.tsa.plot_pacf(Prices[1], lags=30)\n",
        "plt.xlabel('Number of Lags')\n",
        "plt.show()"
      ],
      "metadata": {
        "id": "SciPO0JxPQ9c"
      },
      "execution_count": null,
      "outputs": []
    },
    {
      "cell_type": "markdown",
      "source": [
        "차분을 하는 것 만으로도 정상성을 어느 정도 확보할 수 있다.1차 차분을 한 다음, 그래프 부터 각종 지표를 비교해 보자."
      ],
      "metadata": {
        "id": "tQNBScMmTqU5"
      }
    },
    {
      "cell_type": "code",
      "source": [
        "df_diff = df.diff()\n",
        "diff_Prices = [ df_diff[ '^GSPC'] , df_diff['^KS11'] ]\n",
        "plt.figure(figsize=(10, 6))\n",
        "plt.plot(diff_Prices[0])\n",
        "plt.plot(diff_Prices[1])\n",
        "plt.title('Differenced S&P-500 & KOSPI Price')\n",
        "plt.ylabel('Index')\n",
        "plt.xlabel('Date')\n",
        "plt.show()"
      ],
      "metadata": {
        "id": "TLzIncCxTkln"
      },
      "execution_count": null,
      "outputs": []
    },
    {
      "cell_type": "markdown",
      "source": [
        "차분한 값들의 자기상관 그래프를 그려보자."
      ],
      "metadata": {
        "id": "e8ZeIsJRVTh3"
      }
    },
    {
      "cell_type": "code",
      "source": [
        "sm.graphics.tsa.plot_acf(diff_Prices[0].dropna(),lags=30)\n",
        "sm.graphics.tsa.plot_acf(diff_Prices[1].dropna(),lags=30)\n",
        "plt.xlabel('Number of Lags')\n",
        "plt.show()"
      ],
      "metadata": {
        "id": "SkYADVouVWfR"
      },
      "execution_count": null,
      "outputs": []
    },
    {
      "cell_type": "markdown",
      "source": [
        "차분한 값들의 부분 자기상관관계도 그래프로 그려보자."
      ],
      "metadata": {
        "id": "EyUSBoFrZEc5"
      }
    },
    {
      "cell_type": "code",
      "source": [
        "sm.graphics.tsa.plot_pacf(diff_Prices[0].dropna() , lags=30)\n",
        "sm.graphics.tsa.plot_pacf(diff_Prices[1].dropna() , lags=30)\n",
        "#plt.xlabel('Number of Lags')\n",
        "plt.xlabel('지연수')\n",
        "plt.show()"
      ],
      "metadata": {
        "id": "Io_Hv5T6ZIUI"
      },
      "execution_count": null,
      "outputs": []
    },
    {
      "cell_type": "markdown",
      "source": [
        "ADF(Augmented Dickey-Fuller) 검정을 해보면, 정상성에 대한 보다 정확한 결과를 알 수 있다.\n",
        "신뢰구간 95%검정의 경우, P 값이 0.05보다 작으면, \"단위근이 존재한다.\"는 귀무가설을 기각하고, 정상성이 있음을 확인해 준다.\n",
        "정상성을 가질수록 검정 통계량 값도 작아진다.\n",
        "차분을 취하기 전후의 두 값을 비교해 보자."
      ],
      "metadata": {
        "id": "-xvCMbb6xZ8f"
      }
    },
    {
      "cell_type": "code",
      "source": [
        "stat_test = adfuller(Prices[0].dropna())[0:2] \n",
        "print(\"차분 전 S&P의 ADF 통계검정량과 p-값: {}\".format(stat_test))\n",
        "\n",
        "stat_test = adfuller(diff_Prices[0].dropna())[0:2] \n",
        "#print(\"S&P:: The test statistic and p-value of ADF test after differencing are {}\".format(stat_test1))\n",
        "print(\"차분 후 S&P의 ADF 통계검정량과 p-값: {}\".format(stat_test))\n",
        "\n",
        "stat_test = adfuller(Prices[1].dropna())[0:2] \n",
        "#print(\"S&P:: The test statistic and p-value of ADF test after differencing are {}\".format(stat_test1))\n",
        "print(\"차분 전 KOSPI의 ADF 통계검정량과 p-값: {}\".format(stat_test))\n",
        "stat_test = adfuller(diff_Prices[1].dropna())[0:2] \n",
        "#print(\"KOSPI:: The test statistic and p-value of ADF test after differencing are {}\".format(stat_test2))\n",
        "print(\"차분 후 KOSPI의 ADF 통계검정량과 p-값: {}\".format(stat_test))"
      ],
      "metadata": {
        "id": "WSGKh2iuxUHE"
      },
      "execution_count": null,
      "outputs": []
    }
  ]
}