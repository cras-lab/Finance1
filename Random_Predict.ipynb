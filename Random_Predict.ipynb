{
  "nbformat": 4,
  "nbformat_minor": 0,
  "metadata": {
    "colab": {
      "provenance": [],
      "include_colab_link": true
    },
    "kernelspec": {
      "name": "python3",
      "display_name": "Python 3"
    },
    "language_info": {
      "name": "python"
    }
  },
  "cells": [
    {
      "cell_type": "markdown",
      "metadata": {
        "id": "view-in-github",
        "colab_type": "text"
      },
      "source": [
        "<a href=\"https://colab.research.google.com/github/cras-lab/Finance1/blob/main/Random_Predict.ipynb\" target=\"_parent\"><img src=\"https://colab.research.google.com/assets/colab-badge.svg\" alt=\"Open In Colab\"/></a>"
      ]
    },
    {
      "cell_type": "markdown",
      "source": [
        "랜덤 그래프를 예측해 보기로 한다.\n",
        "먼저 필요한 모듈을 임포트한다. "
      ],
      "metadata": {
        "id": "gza1TWH_icWy"
      }
    },
    {
      "cell_type": "code",
      "source": [
        "import numpy as np\n",
        "import matplotlib.pyplot as plt\n",
        "from sklearn.model_selection import train_test_split"
      ],
      "metadata": {
        "id": "NZb7WniVigrK"
      },
      "execution_count": 1,
      "outputs": []
    },
    {
      "cell_type": "markdown",
      "source": [
        "랜덤 숫자를 300개 발생시킨다.\n",
        "Seed는 256을 사용하여, 매번 동일한 랜덤이 발생하도록 한다."
      ],
      "metadata": {
        "id": "23-jefQyi78i"
      }
    },
    {
      "cell_type": "code",
      "source": [
        "number = 300\n",
        "\n",
        "np.random.seed(256)\n",
        "df= np.random.rand(number, 1)"
      ],
      "metadata": {
        "id": "xYMYtQfki28j"
      },
      "execution_count": 2,
      "outputs": []
    },
    {
      "cell_type": "markdown",
      "source": [
        "sklearn에 있는 train_test_split을 사용하여, 훈련과 테스트 집합을 분할한다. \n",
        "훈련집합 크기를 지정하려면 'test_size' 인수를 사용하면 되는데, 기본값은 0.25로 설정된다. 즉 기본으로 (1-0.25) 즉 75%가 훈련집합에 할당되고, 나머지 25%가 테스트 집합에 할당된다."
      ],
      "metadata": {
        "id": "QPqCVP3tDkkX"
      }
    },
    {
      "cell_type": "code",
      "source": [
        "y_train, y_test = train_test_split( df, shuffle=False  )"
      ],
      "metadata": {
        "id": "a77jCgmODgDC"
      },
      "execution_count": 3,
      "outputs": []
    },
    {
      "cell_type": "markdown",
      "source": [
        "y값은 랜덤으로 생성했으니, X 값은 일련번호로 할당한 다음, 형태를 가로 벡터에서 세로 벡터로 변환한다."
      ],
      "metadata": {
        "id": "XyW_LCWgEXYq"
      }
    },
    {
      "cell_type": "code",
      "source": [
        "X_train = np.arange(0, len(y_train) )\n",
        "X_test = np.arange( len(y_train), len(df))\n",
        "\n",
        "n_features = 1\n",
        "\n",
        "#형태를 가로에서 세로벡터로 변환\n",
        "train_series = y_train.reshape( (len(y_train), n_features))\n",
        "test_series = y_test.reshape( (len(y_test), n_features))"
      ],
      "metadata": {
        "id": "x6GNMOtEESgR"
      },
      "execution_count": 4,
      "outputs": []
    },
    {
      "cell_type": "markdown",
      "source": [
        "look-back은 20으로 설정하고, KERAS에서 시계열 처리를 위한 데이터 구조를 불러와서 해당 형태로 변환한다."
      ],
      "metadata": {
        "id": "7SQTCAZUFA1w"
      }
    },
    {
      "cell_type": "code",
      "source": [
        "look_back = 20\n",
        "\n",
        "from keras.preprocessing.sequence import TimeseriesGenerator\n",
        "\n",
        "train_generator = TimeseriesGenerator( train_series, train_series,\n",
        "                                      length=look_back,\n",
        "                                      batch_size = 10)\n",
        "\n",
        "\n",
        "test_generator = TimeseriesGenerator(test_series, test_series,\n",
        "                                     length= look_back,\n",
        "                                     batch_size=10)"
      ],
      "metadata": {
        "id": "p_AW-OuVEmOR"
      },
      "execution_count": 5,
      "outputs": []
    },
    {
      "cell_type": "markdown",
      "source": [
        "그래프를 도식화 하여, 어떤 모양인지 확인해 본다. 훈련과 테스트는 다른 색으로 표시한다."
      ],
      "metadata": {
        "id": "A8AaovPYiZ5r"
      }
    },
    {
      "cell_type": "code",
      "source": [
        "fig, ax = plt.subplots( 1,1, figsize=(15,4))\n",
        "ax.plot( X_train, y_train, lw=3, label=\"train data\")\n",
        "ax.plot(X_test, y_test, lw=3, label=\"test data\")\n",
        "ax.legend( loc=\"lower left\")\n",
        "plt.show()"
      ],
      "metadata": {
        "id": "pjyd7HGgjHMK"
      },
      "execution_count": null,
      "outputs": []
    },
    {
      "cell_type": "markdown",
      "source": [
        "LSTM 임포트 하기"
      ],
      "metadata": {
        "id": "yNXMP8uijIRa"
      }
    },
    {
      "cell_type": "code",
      "source": [
        "from keras.models import Sequential\n",
        "from keras.layers import Dense, LSTM"
      ],
      "metadata": {
        "id": "J1IBGmkBjL4L"
      },
      "execution_count": 7,
      "outputs": []
    },
    {
      "cell_type": "markdown",
      "source": [
        "신경망 설계"
      ],
      "metadata": {
        "id": "OL_el7VEjPUr"
      }
    },
    {
      "cell_type": "code",
      "source": [
        "n_neurons = 64 # 뉴런 개수\n",
        "n_features = 1\n",
        "model = Sequential()\n",
        "model.add( LSTM( n_neurons, input_shape=(look_back, n_features)))\n",
        "model.add( Dense(1)) #최종 출력은 1 즉 일변량 시계열 예측이다.\n",
        "model.compile( optimizer='adam', loss='mse')"
      ],
      "metadata": {
        "id": "NeGSZxhCjRwL"
      },
      "execution_count": 9,
      "outputs": []
    },
    {
      "cell_type": "markdown",
      "source": [
        "적합화 한 다음 예측을 수행한다."
      ],
      "metadata": {
        "id": "Ku_zwnJTjVND"
      }
    },
    {
      "cell_type": "code",
      "source": [
        "model.fit( train_generator, epochs=50, verbose=0)\n",
        "\n",
        "test_prediction = model.predict( test_generator )"
      ],
      "metadata": {
        "colab": {
          "base_uri": "https://localhost:8080/"
        },
        "id": "kN-PZmjVjaLT",
        "outputId": "2d3a3f12-1e80-404a-8855-2cf146999cac"
      },
      "execution_count": 10,
      "outputs": [
        {
          "output_type": "stream",
          "name": "stdout",
          "text": [
            "6/6 [==============================] - 0s 5ms/step\n"
          ]
        }
      ]
    },
    {
      "cell_type": "markdown",
      "source": [
        "결과를 그래프로 도식화 한다. 예측은 점으로 찍어 실제 테스트와 비교"
      ],
      "metadata": {
        "id": "qBmB2w0Oja0y"
      }
    },
    {
      "cell_type": "code",
      "source": [
        "x= np.arange( len(df) - len(test_prediction ), len(df) )\n",
        "fig, ax= plt.subplots( 1,1, figsize=(15,5))\n",
        "ax.plot( X_test, y_test, lw=3, c='y', label='test_data')\n",
        "ax.plot( x, test_prediction,lw=3, c='r', linestyle=':', label='predictions')\n",
        "ax.legend( loc='lower left')\n",
        "plt.show()"
      ],
      "metadata": {
        "id": "y6Wzr47jjcgD"
      },
      "execution_count": null,
      "outputs": []
    }
  ]
}